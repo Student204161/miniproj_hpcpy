{
 "cells": [
  {
   "cell_type": "markdown",
   "id": "c9dfb924",
   "metadata": {},
   "source": [
    "1 - Distribution of mean Temperatures"
   ]
  },
  {
   "cell_type": "code",
   "execution_count": 29,
   "id": "3d49ac13",
   "metadata": {},
   "outputs": [
    {
     "name": "stderr",
     "output_type": "stream",
     "text": [
      "/tmp/ipykernel_1603440/31277947.py:7: ParserWarning: Falling back to the 'python' engine because the 'c' engine does not support regex separators (separators > 1 char and different from '\\s+' are interpreted as regex); you can avoid this warning by specifying engine='python'.\n",
      "  df = pd.read_csv('logs/results_ex12.out', sep=', ')\n"
     ]
    }
   ],
   "source": [
    "#load in data in logs/results_ex12.out\n",
    "import pandas as pd\n",
    "import numpy as np\n",
    "import matplotlib.pyplot as plt\n",
    "\n",
    "# Load the data\n",
    "df = pd.read_csv('logs/results_ex12.out', sep=', ')"
   ]
  },
  {
   "cell_type": "code",
   "execution_count": 30,
   "id": "918b9007",
   "metadata": {},
   "outputs": [
    {
     "data": {
      "text/html": [
       "<div>\n",
       "<style scoped>\n",
       "    .dataframe tbody tr th:only-of-type {\n",
       "        vertical-align: middle;\n",
       "    }\n",
       "\n",
       "    .dataframe tbody tr th {\n",
       "        vertical-align: top;\n",
       "    }\n",
       "\n",
       "    .dataframe thead th {\n",
       "        text-align: right;\n",
       "    }\n",
       "</style>\n",
       "<table border=\"1\" class=\"dataframe\">\n",
       "  <thead>\n",
       "    <tr style=\"text-align: right;\">\n",
       "      <th></th>\n",
       "      <th>building_id</th>\n",
       "      <th>mean_temp</th>\n",
       "      <th>std_temp</th>\n",
       "      <th>pct_above_18</th>\n",
       "      <th>pct_below_15</th>\n",
       "    </tr>\n",
       "  </thead>\n",
       "  <tbody>\n",
       "    <tr>\n",
       "      <th>0</th>\n",
       "      <td>10000</td>\n",
       "      <td>14.016701</td>\n",
       "      <td>6.367649</td>\n",
       "      <td>30.966330</td>\n",
       "      <td>55.475390</td>\n",
       "    </tr>\n",
       "    <tr>\n",
       "      <th>1</th>\n",
       "      <td>10009</td>\n",
       "      <td>11.010280</td>\n",
       "      <td>5.809287</td>\n",
       "      <td>16.697658</td>\n",
       "      <td>74.934667</td>\n",
       "    </tr>\n",
       "    <tr>\n",
       "      <th>2</th>\n",
       "      <td>10014</td>\n",
       "      <td>14.760094</td>\n",
       "      <td>7.028291</td>\n",
       "      <td>38.297266</td>\n",
       "      <td>52.748315</td>\n",
       "    </tr>\n",
       "    <tr>\n",
       "      <th>3</th>\n",
       "      <td>10019</td>\n",
       "      <td>14.752192</td>\n",
       "      <td>7.020491</td>\n",
       "      <td>38.191880</td>\n",
       "      <td>52.886542</td>\n",
       "    </tr>\n",
       "    <tr>\n",
       "      <th>4</th>\n",
       "      <td>10029</td>\n",
       "      <td>10.622508</td>\n",
       "      <td>6.312461</td>\n",
       "      <td>18.255632</td>\n",
       "      <td>74.513018</td>\n",
       "    </tr>\n",
       "  </tbody>\n",
       "</table>\n",
       "</div>"
      ],
      "text/plain": [
       "   building_id  mean_temp  std_temp  pct_above_18  pct_below_15\n",
       "0        10000  14.016701  6.367649     30.966330     55.475390\n",
       "1        10009  11.010280  5.809287     16.697658     74.934667\n",
       "2        10014  14.760094  7.028291     38.297266     52.748315\n",
       "3        10019  14.752192  7.020491     38.191880     52.886542\n",
       "4        10029  10.622508  6.312461     18.255632     74.513018"
      ]
     },
     "execution_count": 30,
     "metadata": {},
     "output_type": "execute_result"
    }
   ],
   "source": [
    "df.head()"
   ]
  },
  {
   "cell_type": "code",
   "execution_count": 53,
   "id": "64d9a912",
   "metadata": {},
   "outputs": [
    {
     "data": {
      "text/plain": [
       "Index(['building_id', 'mean_temp', 'std_temp', 'pct_above_18', 'pct_below_15'], dtype='object')"
      ]
     },
     "execution_count": 53,
     "metadata": {},
     "output_type": "execute_result"
    }
   ],
   "source": [
    "df.columns"
   ]
  },
  {
   "cell_type": "code",
   "execution_count": 49,
   "id": "4a66218d",
   "metadata": {},
   "outputs": [
    {
     "data": {
      "text/plain": [
       "<matplotlib.lines.Line2D at 0x7f8106b1d750>"
      ]
     },
     "execution_count": 49,
     "metadata": {},
     "output_type": "execute_result"
    },
    {
     "data": {
      "image/png": "[encoded data removed]",
      "text/plain": [
       "<Figure size 640x480 with 1 Axes>"
      ]
     },
     "metadata": {},
     "output_type": "display_data"
    }
   ],
   "source": [
    "#histogram of temperature\n",
    "plt.hist(df['mean_temp'], bins=50, color='blue', alpha=0.7)\n",
    "plt.xlabel('Mean Temperature')\n",
    "plt.ylabel('Frequency')\n",
    "plt.title('Histogram of Mean Temperature')\n",
    "#show avg. mean temperature as vertical line\n",
    "plt.axvline(df['mean_temp'].mean(), color='red', linestyle='dashed', linewidth=1)"
   ]
  },
  {
   "cell_type": "markdown",
   "id": "9531aa48",
   "metadata": {},
   "source": [
    "2&3 - Average Mean Temperature & standard deviation"
   ]
  },
  {
   "cell_type": "code",
   "execution_count": null,
   "id": "9d628231",
   "metadata": {},
   "outputs": [
    {
     "name": "stdout",
     "output_type": "stream",
     "text": [
      "Mean: 14.71327091362127, Standard Deviation: 2.1452621073141303\n",
      "Over 50% of the time, the mean temperature is at least 18 degrees: 813\n",
      "Over 50% of the time, the mean temperature is below 15 degrees: 2460\n"
     ]
    }
   ],
   "source": [
    "mu = np.mean(df['mean_temp'])\n",
    "sigma = np.std(df['mean_temp'])\n",
    "print(f'Mean: {mu}, Standard Deviation: {sigma}')\n",
    "t_18_pct = np.sum(df['pct_above_18'] >= 50)\n",
    "t_15_pct = np.sum(df['pct_below_15'] >= 50)\n",
    "print(f'Num. buildings where over 50% of the area, the temperature is at least 18 degrees: {t_18_pct}')\n",
    "print(f'Num. buildings where over 50% of the area, the temperature is below 15 degrees: {t_15_pct}')"
   ]
  },
  {
   "cell_type": "markdown",
   "id": "b59e4392",
   "metadata": {},
   "source": [
    "4&5 How many buildings had area above 18 deg. celsius and 15 deg. celsius after simulation?"
   ]
  },
  {
   "cell_type": "code",
   "execution_count": null,
   "id": "1f03ddee",
   "metadata": {},
   "outputs": [],
   "source": []
  },
  {
   "cell_type": "code",
   "execution_count": null,
   "id": "421881db",
   "metadata": {},
   "outputs": [],
   "source": []
  }
 ],
 "metadata": {
  "kernelspec": {
   "display_name": "Python 3",
   "language": "python",
   "name": "python3"
  },
  "language_info": {
   "codemirror_mode": {
    "name": "ipython",
    "version": 3
   },
   "file_extension": ".py",
   "mimetype": "text/x-python",
   "name": "python",
   "nbconvert_exporter": "python",
   "pygments_lexer": "ipython3",
   "version": "3.11.5"
  }
 },
 "nbformat": 4,
 "nbformat_minor": 5
}
